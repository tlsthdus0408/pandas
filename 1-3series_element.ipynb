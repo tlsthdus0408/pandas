{
 "cells": [
  {
   "cell_type": "code",
   "execution_count": 1,
   "id": "4661c7e0",
   "metadata": {},
   "outputs": [],
   "source": [
    "import pandas as pd #라이버리 호출"
   ]
  },
  {
   "cell_type": "code",
   "execution_count": 42,
   "id": "afa1cb52",
   "metadata": {},
   "outputs": [],
   "source": [
    "tup_data=('영인',\"2022-09-16\",\"여\",True) #튜플데이터를 Seies로 변경"
   ]
  },
  {
   "cell_type": "code",
   "execution_count": 3,
   "id": "a9917560",
   "metadata": {},
   "outputs": [],
   "source": [
    "sr1=pd.Series(tup_data)#튜플형태로 시리즈  자료형 변환합니다."
   ]
  },
  {
   "cell_type": "code",
   "execution_count": 4,
   "id": "8d40ce8b",
   "metadata": {},
   "outputs": [
    {
     "name": "stdout",
     "output_type": "stream",
     "text": [
      "0            영인\n",
      "1    2022-09-16\n",
      "2             여\n",
      "3          True\n",
      "dtype: object\n"
     ]
    }
   ],
   "source": [
    "print(sr1)"
   ]
  },
  {
   "cell_type": "code",
   "execution_count": 43,
   "id": "a853af90",
   "metadata": {
    "scrolled": true
   },
   "outputs": [
    {
     "name": "stdout",
     "output_type": "stream",
     "text": [
      "성별              영인\n",
      "이름      2022-09-16\n",
      "생년월일             여\n",
      "학생여부          True\n",
      "dtype: object\n"
     ]
    }
   ],
   "source": [
    "sr2=pd.Series(tup_data,index={'이름',\"생년월일\",\"성별\",\"학생여부\"}) #인덱스 키값을 추가합니다 \"\",'' 둘중에 하나로 통일해야 뒤죽박죽 안함\n",
    ",print(sr2)"
   ]
  },
  {
   "cell_type": "code",
   "execution_count": 29,
   "id": "96833c68",
   "metadata": {},
   "outputs": [
    {
     "name": "stdout",
     "output_type": "stream",
     "text": [
      "영인\n",
      "여\n",
      "영인\n"
     ]
    }
   ],
   "source": [
    "print(sr1[0])\n",
    "print(sr2[0])\n",
    "print(sr2[\"이름\"])"
   ]
  },
  {
   "cell_type": "code",
   "execution_count": 34,
   "id": "c9aa0ddc",
   "metadata": {},
   "outputs": [
    {
     "name": "stdout",
     "output_type": "stream",
     "text": [
      "생년월일    2022-09-16\n",
      "성별               여\n",
      "dtype: object\n",
      "이름              영인\n",
      "생년월일    2022-09-16\n",
      "dtype: object\n"
     ]
    }
   ],
   "source": [
    "#'생년월일',\"성별\",\"이름\",\"학생여부\n",
    "print(sr2[['생년월일','성별']])#문자형 인덱스\n",
    "print(sr2[1:3])#정수형인덱스를 사용\n",
    "print(sr2)"
   ]
  },
  {
   "cell_type": "code",
   "execution_count": 37,
   "id": "d6067603",
   "metadata": {},
   "outputs": [
    {
     "name": "stdout",
     "output_type": "stream",
     "text": [
      "영인\n"
     ]
    }
   ],
   "source": [
    "print(sr2[\"이름\"])"
   ]
  },
  {
   "cell_type": "code",
   "execution_count": 38,
   "id": "bf7226b5",
   "metadata": {},
   "outputs": [
    {
     "name": "stdout",
     "output_type": "stream",
     "text": [
      "이름    영인\n",
      "성별     여\n",
      "dtype: object\n"
     ]
    }
   ],
   "source": [
    "print(sr2[['이름','성별']])"
   ]
  },
  {
   "cell_type": "code",
   "execution_count": 41,
   "id": "11e19c1d",
   "metadata": {},
   "outputs": [
    {
     "name": "stdout",
     "output_type": "stream",
     "text": [
      "성별               여\n",
      "생년월일    2022-09-16\n",
      "dtype: object\n"
     ]
    }
   ],
   "source": [
    "#'생년월일',\"성별\",\"이름\",\"학생여부\n",
    "print(sr2[[0,2]])#이름-성별"
   ]
  },
  {
   "cell_type": "code",
   "execution_count": null,
   "id": "eb09a8de",
   "metadata": {},
   "outputs": [],
   "source": []
  }
 ],
 "metadata": {
  "kernelspec": {
   "display_name": "Python 3 (ipykernel)",
   "language": "python",
   "name": "python3"
  },
  "language_info": {
   "codemirror_mode": {
    "name": "ipython",
    "version": 3
   },
   "file_extension": ".py",
   "mimetype": "text/x-python",
   "name": "python",
   "nbconvert_exporter": "python",
   "pygments_lexer": "ipython3",
   "version": "3.9.12"
  },
  "toc": {
   "base_numbering": 1,
   "nav_menu": {},
   "number_sections": true,
   "sideBar": true,
   "skip_h1_title": false,
   "title_cell": "Table of Contents",
   "title_sidebar": "Contents",
   "toc_cell": false,
   "toc_position": {},
   "toc_section_display": true,
   "toc_window_display": false
  },
  "varInspector": {
   "cols": {
    "lenName": 16,
    "lenType": 16,
    "lenVar": 40
   },
   "kernels_config": {
    "python": {
     "delete_cmd_postfix": "",
     "delete_cmd_prefix": "del ",
     "library": "var_list.py",
     "varRefreshCmd": "print(var_dic_list())"
    },
    "r": {
     "delete_cmd_postfix": ") ",
     "delete_cmd_prefix": "rm(",
     "library": "var_list.r",
     "varRefreshCmd": "cat(var_dic_list()) "
    }
   },
   "types_to_exclude": [
    "module",
    "function",
    "builtin_function_or_method",
    "instance",
    "_Feature"
   ],
   "window_display": false
  }
 },
 "nbformat": 4,
 "nbformat_minor": 5
}
