{
 "cells": [
  {
   "cell_type": "code",
   "execution_count": 1,
   "id": "8f31bbf0",
   "metadata": {},
   "outputs": [],
   "source": [
    "import pandas as pb"
   ]
  },
  {
   "cell_type": "code",
   "execution_count": 4,
   "id": "5aca4b2e",
   "metadata": {},
   "outputs": [
    {
     "data": {
      "text/plain": [
       "국어    100\n",
       "영어     80\n",
       "수학     90\n",
       "dtype: int64"
      ]
     },
     "execution_count": 4,
     "metadata": {},
     "output_type": "execute_result"
    }
   ],
   "source": [
    "studert1=pb.Series({\"국어\":100,\"영어\":80,\"수학\":90})\n",
    "studert1"
   ]
  },
  {
   "cell_type": "code",
   "execution_count": 5,
   "id": "c030ebd7",
   "metadata": {},
   "outputs": [
    {
     "data": {
      "text/plain": [
       "국어    0.50\n",
       "영어    0.40\n",
       "수학    0.45\n",
       "dtype: float64"
      ]
     },
     "execution_count": 5,
     "metadata": {},
     "output_type": "execute_result"
    }
   ],
   "source": [
    "#학생의 과목별 점수를 200으로 나누기\n",
    "perent=studert1/200\n",
    "perent"
   ]
  },
  {
   "cell_type": "code",
   "execution_count": null,
   "id": "63f244e5",
   "metadata": {},
   "outputs": [],
   "source": []
  }
 ],
 "metadata": {
  "kernelspec": {
   "display_name": "Python 3 (ipykernel)",
   "language": "python",
   "name": "python3"
  },
  "language_info": {
   "codemirror_mode": {
    "name": "ipython",
    "version": 3
   },
   "file_extension": ".py",
   "mimetype": "text/x-python",
   "name": "python",
   "nbconvert_exporter": "python",
   "pygments_lexer": "ipython3",
   "version": "3.9.12"
  },
  "toc": {
   "base_numbering": 1,
   "nav_menu": {},
   "number_sections": true,
   "sideBar": true,
   "skip_h1_title": false,
   "title_cell": "Table of Contents",
   "title_sidebar": "Contents",
   "toc_cell": false,
   "toc_position": {},
   "toc_section_display": true,
   "toc_window_display": false
  },
  "varInspector": {
   "cols": {
    "lenName": 16,
    "lenType": 16,
    "lenVar": 40
   },
   "kernels_config": {
    "python": {
     "delete_cmd_postfix": "",
     "delete_cmd_prefix": "del ",
     "library": "var_list.py",
     "varRefreshCmd": "print(var_dic_list())"
    },
    "r": {
     "delete_cmd_postfix": ") ",
     "delete_cmd_prefix": "rm(",
     "library": "var_list.r",
     "varRefreshCmd": "cat(var_dic_list()) "
    }
   },
   "types_to_exclude": [
    "module",
    "function",
    "builtin_function_or_method",
    "instance",
    "_Feature"
   ],
   "window_display": false
  }
 },
 "nbformat": 4,
 "nbformat_minor": 5
}
