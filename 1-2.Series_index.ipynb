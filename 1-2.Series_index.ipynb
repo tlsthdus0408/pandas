{
 "cells": [
  {
   "cell_type": "code",
   "execution_count": 4,
   "id": "bd56fb36",
   "metadata": {},
   "outputs": [],
   "source": [
    "import pandas as pd # 라이브러리 호출"
   ]
  },
  {
   "cell_type": "code",
   "execution_count": 2,
   "id": "9fc5a4f7",
   "metadata": {},
   "outputs": [],
   "source": [
    "list_data=['2022년 09월16일',3.14,\"ABC\",100,True]#리스트형태으로 데이터생성"
   ]
  },
  {
   "cell_type": "code",
   "execution_count": 5,
   "id": "9790e59d",
   "metadata": {},
   "outputs": [],
   "source": [
    "sr1=pd.Series([\"사과\",\"바나나\",\"당근\"],index=['a','b','c'])#리스트형태로 시리즈 자료형으로 변환힙니다"
   ]
  },
  {
   "cell_type": "code",
   "execution_count": 6,
   "id": "473f34b6",
   "metadata": {},
   "outputs": [
    {
     "name": "stdout",
     "output_type": "stream",
     "text": [
      "a     사과\n",
      "b    바나나\n",
      "c     당근\n",
      "dtype: object\n"
     ]
    }
   ],
   "source": [
    "print(sr1) #인덱스 키를 만들어준다"
   ]
  },
  {
   "cell_type": "code",
   "execution_count": 8,
   "id": "0869ac12",
   "metadata": {},
   "outputs": [
    {
     "name": "stdout",
     "output_type": "stream",
     "text": [
      "사과\n"
     ]
    }
   ],
   "source": [
    "print(sr1.a)#statr숫자는 0 이고 시작 하고 stop는 5로 끝납니다."
   ]
  },
  {
   "cell_type": "code",
   "execution_count": 9,
   "id": "f660c7bd",
   "metadata": {},
   "outputs": [
    {
     "name": "stdout",
     "output_type": "stream",
     "text": [
      "['2022년 09월16일' 3.14 'ABC' 100 True]\n"
     ]
    }
   ],
   "source": [
    "print(sr1.values)# 리스트의 값이  밸류값으로 변환이 되어 표현이 됩니다."
   ]
  },
  {
   "cell_type": "code",
   "execution_count": null,
   "id": "4a187c8f",
   "metadata": {},
   "outputs": [],
   "source": [
    "sr1."
   ]
  }
 ],
 "metadata": {
  "kernelspec": {
   "display_name": "Python 3 (ipykernel)",
   "language": "python",
   "name": "python3"
  },
  "language_info": {
   "codemirror_mode": {
    "name": "ipython",
    "version": 3
   },
   "file_extension": ".py",
   "mimetype": "text/x-python",
   "name": "python",
   "nbconvert_exporter": "python",
   "pygments_lexer": "ipython3",
   "version": "3.9.12"
  },
  "toc": {
   "base_numbering": 1,
   "nav_menu": {},
   "number_sections": true,
   "sideBar": true,
   "skip_h1_title": false,
   "title_cell": "Table of Contents",
   "title_sidebar": "Contents",
   "toc_cell": false,
   "toc_position": {},
   "toc_section_display": true,
   "toc_window_display": false
  },
  "varInspector": {
   "cols": {
    "lenName": 16,
    "lenType": 16,
    "lenVar": 40
   },
   "kernels_config": {
    "python": {
     "delete_cmd_postfix": "",
     "delete_cmd_prefix": "del ",
     "library": "var_list.py",
     "varRefreshCmd": "print(var_dic_list())"
    },
    "r": {
     "delete_cmd_postfix": ") ",
     "delete_cmd_prefix": "rm(",
     "library": "var_list.r",
     "varRefreshCmd": "cat(var_dic_list()) "
    }
   },
   "types_to_exclude": [
    "module",
    "function",
    "builtin_function_or_method",
    "instance",
    "_Feature"
   ],
   "window_display": false
  }
 },
 "nbformat": 4,
 "nbformat_minor": 5
}
