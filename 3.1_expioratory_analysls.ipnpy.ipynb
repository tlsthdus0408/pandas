{
 "cells": [
  {
   "cell_type": "code",
   "execution_count": 1,
   "id": "5b5a26c8",
   "metadata": {},
   "outputs": [],
   "source": [
    "import pandas as pd"
   ]
  },
  {
   "cell_type": "code",
   "execution_count": 4,
   "id": "defa2ad4",
   "metadata": {},
   "outputs": [],
   "source": [
    "df=pd.read_csv(\"./auto-mpg.csv\")"
   ]
  },
  {
   "cell_type": "code",
   "execution_count": 5,
   "id": "89068834",
   "metadata": {},
   "outputs": [
    {
     "data": {
      "text/html": [
       "<div>\n",
       "<style scoped>\n",
       "    .dataframe tbody tr th:only-of-type {\n",
       "        vertical-align: middle;\n",
       "    }\n",
       "\n",
       "    .dataframe tbody tr th {\n",
       "        vertical-align: top;\n",
       "    }\n",
       "\n",
       "    .dataframe thead th {\n",
       "        text-align: right;\n",
       "    }\n",
       "</style>\n",
       "<table border=\"1\" class=\"dataframe\">\n",
       "  <thead>\n",
       "    <tr style=\"text-align: right;\">\n",
       "      <th></th>\n",
       "      <th>18.0</th>\n",
       "      <th>8</th>\n",
       "      <th>307.0</th>\n",
       "      <th>130.0</th>\n",
       "      <th>3504.</th>\n",
       "      <th>12.0</th>\n",
       "      <th>70</th>\n",
       "      <th>1</th>\n",
       "      <th>chevrolet chevelle malibu</th>\n",
       "    </tr>\n",
       "  </thead>\n",
       "  <tbody>\n",
       "    <tr>\n",
       "      <th>0</th>\n",
       "      <td>15.0</td>\n",
       "      <td>8</td>\n",
       "      <td>350.0</td>\n",
       "      <td>165.0</td>\n",
       "      <td>3693.0</td>\n",
       "      <td>11.5</td>\n",
       "      <td>70</td>\n",
       "      <td>1</td>\n",
       "      <td>buick skylark 320</td>\n",
       "    </tr>\n",
       "    <tr>\n",
       "      <th>1</th>\n",
       "      <td>18.0</td>\n",
       "      <td>8</td>\n",
       "      <td>318.0</td>\n",
       "      <td>150.0</td>\n",
       "      <td>3436.0</td>\n",
       "      <td>11.0</td>\n",
       "      <td>70</td>\n",
       "      <td>1</td>\n",
       "      <td>plymouth satellite</td>\n",
       "    </tr>\n",
       "    <tr>\n",
       "      <th>2</th>\n",
       "      <td>16.0</td>\n",
       "      <td>8</td>\n",
       "      <td>304.0</td>\n",
       "      <td>150.0</td>\n",
       "      <td>3433.0</td>\n",
       "      <td>12.0</td>\n",
       "      <td>70</td>\n",
       "      <td>1</td>\n",
       "      <td>amc rebel sst</td>\n",
       "    </tr>\n",
       "    <tr>\n",
       "      <th>3</th>\n",
       "      <td>17.0</td>\n",
       "      <td>8</td>\n",
       "      <td>302.0</td>\n",
       "      <td>140.0</td>\n",
       "      <td>3449.0</td>\n",
       "      <td>10.5</td>\n",
       "      <td>70</td>\n",
       "      <td>1</td>\n",
       "      <td>ford torino</td>\n",
       "    </tr>\n",
       "    <tr>\n",
       "      <th>4</th>\n",
       "      <td>15.0</td>\n",
       "      <td>8</td>\n",
       "      <td>429.0</td>\n",
       "      <td>198.0</td>\n",
       "      <td>4341.0</td>\n",
       "      <td>10.0</td>\n",
       "      <td>70</td>\n",
       "      <td>1</td>\n",
       "      <td>ford galaxie 500</td>\n",
       "    </tr>\n",
       "    <tr>\n",
       "      <th>...</th>\n",
       "      <td>...</td>\n",
       "      <td>...</td>\n",
       "      <td>...</td>\n",
       "      <td>...</td>\n",
       "      <td>...</td>\n",
       "      <td>...</td>\n",
       "      <td>...</td>\n",
       "      <td>...</td>\n",
       "      <td>...</td>\n",
       "    </tr>\n",
       "    <tr>\n",
       "      <th>392</th>\n",
       "      <td>27.0</td>\n",
       "      <td>4</td>\n",
       "      <td>140.0</td>\n",
       "      <td>86.00</td>\n",
       "      <td>2790.0</td>\n",
       "      <td>15.6</td>\n",
       "      <td>82</td>\n",
       "      <td>1</td>\n",
       "      <td>ford mustang gl</td>\n",
       "    </tr>\n",
       "    <tr>\n",
       "      <th>393</th>\n",
       "      <td>44.0</td>\n",
       "      <td>4</td>\n",
       "      <td>97.0</td>\n",
       "      <td>52.00</td>\n",
       "      <td>2130.0</td>\n",
       "      <td>24.6</td>\n",
       "      <td>82</td>\n",
       "      <td>2</td>\n",
       "      <td>vw pickup</td>\n",
       "    </tr>\n",
       "    <tr>\n",
       "      <th>394</th>\n",
       "      <td>32.0</td>\n",
       "      <td>4</td>\n",
       "      <td>135.0</td>\n",
       "      <td>84.00</td>\n",
       "      <td>2295.0</td>\n",
       "      <td>11.6</td>\n",
       "      <td>82</td>\n",
       "      <td>1</td>\n",
       "      <td>dodge rampage</td>\n",
       "    </tr>\n",
       "    <tr>\n",
       "      <th>395</th>\n",
       "      <td>28.0</td>\n",
       "      <td>4</td>\n",
       "      <td>120.0</td>\n",
       "      <td>79.00</td>\n",
       "      <td>2625.0</td>\n",
       "      <td>18.6</td>\n",
       "      <td>82</td>\n",
       "      <td>1</td>\n",
       "      <td>ford ranger</td>\n",
       "    </tr>\n",
       "    <tr>\n",
       "      <th>396</th>\n",
       "      <td>31.0</td>\n",
       "      <td>4</td>\n",
       "      <td>119.0</td>\n",
       "      <td>82.00</td>\n",
       "      <td>2720.0</td>\n",
       "      <td>19.4</td>\n",
       "      <td>82</td>\n",
       "      <td>1</td>\n",
       "      <td>chevy s-10</td>\n",
       "    </tr>\n",
       "  </tbody>\n",
       "</table>\n",
       "<p>397 rows × 9 columns</p>\n",
       "</div>"
      ],
      "text/plain": [
       "     18.0  8  307.0  130.0   3504.  12.0  70  1 chevrolet chevelle malibu\n",
       "0    15.0  8  350.0  165.0  3693.0  11.5  70  1         buick skylark 320\n",
       "1    18.0  8  318.0  150.0  3436.0  11.0  70  1        plymouth satellite\n",
       "2    16.0  8  304.0  150.0  3433.0  12.0  70  1             amc rebel sst\n",
       "3    17.0  8  302.0  140.0  3449.0  10.5  70  1               ford torino\n",
       "4    15.0  8  429.0  198.0  4341.0  10.0  70  1          ford galaxie 500\n",
       "..    ... ..    ...    ...     ...   ...  .. ..                       ...\n",
       "392  27.0  4  140.0  86.00  2790.0  15.6  82  1           ford mustang gl\n",
       "393  44.0  4   97.0  52.00  2130.0  24.6  82  2                 vw pickup\n",
       "394  32.0  4  135.0  84.00  2295.0  11.6  82  1             dodge rampage\n",
       "395  28.0  4  120.0  79.00  2625.0  18.6  82  1               ford ranger\n",
       "396  31.0  4  119.0  82.00  2720.0  19.4  82  1                chevy s-10\n",
       "\n",
       "[397 rows x 9 columns]"
      ]
     },
     "execution_count": 5,
     "metadata": {},
     "output_type": "execute_result"
    }
   ],
   "source": [
    "df"
   ]
  },
  {
   "cell_type": "code",
   "execution_count": 6,
   "id": "759f8021",
   "metadata": {},
   "outputs": [],
   "source": [
    "df.columns=[\"연비\",\"실린더수\",\"배기량\",\"출력\",\"차중량\",\"가속능력\",\"출신연도\",\"제조국\",\"모델명\"]"
   ]
  },
  {
   "cell_type": "code",
   "execution_count": 7,
   "id": "f4417a58",
   "metadata": {},
   "outputs": [
    {
     "data": {
      "text/html": [
       "<div>\n",
       "<style scoped>\n",
       "    .dataframe tbody tr th:only-of-type {\n",
       "        vertical-align: middle;\n",
       "    }\n",
       "\n",
       "    .dataframe tbody tr th {\n",
       "        vertical-align: top;\n",
       "    }\n",
       "\n",
       "    .dataframe thead th {\n",
       "        text-align: right;\n",
       "    }\n",
       "</style>\n",
       "<table border=\"1\" class=\"dataframe\">\n",
       "  <thead>\n",
       "    <tr style=\"text-align: right;\">\n",
       "      <th></th>\n",
       "      <th>연비</th>\n",
       "      <th>실린더수</th>\n",
       "      <th>배기량</th>\n",
       "      <th>출력</th>\n",
       "      <th>차중량</th>\n",
       "      <th>가속능력</th>\n",
       "      <th>출신연도</th>\n",
       "      <th>제조국</th>\n",
       "      <th>모델명</th>\n",
       "    </tr>\n",
       "  </thead>\n",
       "  <tbody>\n",
       "    <tr>\n",
       "      <th>0</th>\n",
       "      <td>15.0</td>\n",
       "      <td>8</td>\n",
       "      <td>350.0</td>\n",
       "      <td>165.0</td>\n",
       "      <td>3693.0</td>\n",
       "      <td>11.5</td>\n",
       "      <td>70</td>\n",
       "      <td>1</td>\n",
       "      <td>buick skylark 320</td>\n",
       "    </tr>\n",
       "    <tr>\n",
       "      <th>1</th>\n",
       "      <td>18.0</td>\n",
       "      <td>8</td>\n",
       "      <td>318.0</td>\n",
       "      <td>150.0</td>\n",
       "      <td>3436.0</td>\n",
       "      <td>11.0</td>\n",
       "      <td>70</td>\n",
       "      <td>1</td>\n",
       "      <td>plymouth satellite</td>\n",
       "    </tr>\n",
       "    <tr>\n",
       "      <th>2</th>\n",
       "      <td>16.0</td>\n",
       "      <td>8</td>\n",
       "      <td>304.0</td>\n",
       "      <td>150.0</td>\n",
       "      <td>3433.0</td>\n",
       "      <td>12.0</td>\n",
       "      <td>70</td>\n",
       "      <td>1</td>\n",
       "      <td>amc rebel sst</td>\n",
       "    </tr>\n",
       "    <tr>\n",
       "      <th>3</th>\n",
       "      <td>17.0</td>\n",
       "      <td>8</td>\n",
       "      <td>302.0</td>\n",
       "      <td>140.0</td>\n",
       "      <td>3449.0</td>\n",
       "      <td>10.5</td>\n",
       "      <td>70</td>\n",
       "      <td>1</td>\n",
       "      <td>ford torino</td>\n",
       "    </tr>\n",
       "    <tr>\n",
       "      <th>4</th>\n",
       "      <td>15.0</td>\n",
       "      <td>8</td>\n",
       "      <td>429.0</td>\n",
       "      <td>198.0</td>\n",
       "      <td>4341.0</td>\n",
       "      <td>10.0</td>\n",
       "      <td>70</td>\n",
       "      <td>1</td>\n",
       "      <td>ford galaxie 500</td>\n",
       "    </tr>\n",
       "    <tr>\n",
       "      <th>...</th>\n",
       "      <td>...</td>\n",
       "      <td>...</td>\n",
       "      <td>...</td>\n",
       "      <td>...</td>\n",
       "      <td>...</td>\n",
       "      <td>...</td>\n",
       "      <td>...</td>\n",
       "      <td>...</td>\n",
       "      <td>...</td>\n",
       "    </tr>\n",
       "    <tr>\n",
       "      <th>392</th>\n",
       "      <td>27.0</td>\n",
       "      <td>4</td>\n",
       "      <td>140.0</td>\n",
       "      <td>86.00</td>\n",
       "      <td>2790.0</td>\n",
       "      <td>15.6</td>\n",
       "      <td>82</td>\n",
       "      <td>1</td>\n",
       "      <td>ford mustang gl</td>\n",
       "    </tr>\n",
       "    <tr>\n",
       "      <th>393</th>\n",
       "      <td>44.0</td>\n",
       "      <td>4</td>\n",
       "      <td>97.0</td>\n",
       "      <td>52.00</td>\n",
       "      <td>2130.0</td>\n",
       "      <td>24.6</td>\n",
       "      <td>82</td>\n",
       "      <td>2</td>\n",
       "      <td>vw pickup</td>\n",
       "    </tr>\n",
       "    <tr>\n",
       "      <th>394</th>\n",
       "      <td>32.0</td>\n",
       "      <td>4</td>\n",
       "      <td>135.0</td>\n",
       "      <td>84.00</td>\n",
       "      <td>2295.0</td>\n",
       "      <td>11.6</td>\n",
       "      <td>82</td>\n",
       "      <td>1</td>\n",
       "      <td>dodge rampage</td>\n",
       "    </tr>\n",
       "    <tr>\n",
       "      <th>395</th>\n",
       "      <td>28.0</td>\n",
       "      <td>4</td>\n",
       "      <td>120.0</td>\n",
       "      <td>79.00</td>\n",
       "      <td>2625.0</td>\n",
       "      <td>18.6</td>\n",
       "      <td>82</td>\n",
       "      <td>1</td>\n",
       "      <td>ford ranger</td>\n",
       "    </tr>\n",
       "    <tr>\n",
       "      <th>396</th>\n",
       "      <td>31.0</td>\n",
       "      <td>4</td>\n",
       "      <td>119.0</td>\n",
       "      <td>82.00</td>\n",
       "      <td>2720.0</td>\n",
       "      <td>19.4</td>\n",
       "      <td>82</td>\n",
       "      <td>1</td>\n",
       "      <td>chevy s-10</td>\n",
       "    </tr>\n",
       "  </tbody>\n",
       "</table>\n",
       "<p>397 rows × 9 columns</p>\n",
       "</div>"
      ],
      "text/plain": [
       "       연비  실린더수    배기량     출력     차중량  가속능력  출신연도  제조국                 모델명\n",
       "0    15.0     8  350.0  165.0  3693.0  11.5    70    1   buick skylark 320\n",
       "1    18.0     8  318.0  150.0  3436.0  11.0    70    1  plymouth satellite\n",
       "2    16.0     8  304.0  150.0  3433.0  12.0    70    1       amc rebel sst\n",
       "3    17.0     8  302.0  140.0  3449.0  10.5    70    1         ford torino\n",
       "4    15.0     8  429.0  198.0  4341.0  10.0    70    1    ford galaxie 500\n",
       "..    ...   ...    ...    ...     ...   ...   ...  ...                 ...\n",
       "392  27.0     4  140.0  86.00  2790.0  15.6    82    1     ford mustang gl\n",
       "393  44.0     4   97.0  52.00  2130.0  24.6    82    2           vw pickup\n",
       "394  32.0     4  135.0  84.00  2295.0  11.6    82    1       dodge rampage\n",
       "395  28.0     4  120.0  79.00  2625.0  18.6    82    1         ford ranger\n",
       "396  31.0     4  119.0  82.00  2720.0  19.4    82    1          chevy s-10\n",
       "\n",
       "[397 rows x 9 columns]"
      ]
     },
     "execution_count": 7,
     "metadata": {},
     "output_type": "execute_result"
    }
   ],
   "source": [
    "df"
   ]
  },
  {
   "cell_type": "code",
   "execution_count": 8,
   "id": "82ac8325",
   "metadata": {},
   "outputs": [
    {
     "data": {
      "text/html": [
       "<div>\n",
       "<style scoped>\n",
       "    .dataframe tbody tr th:only-of-type {\n",
       "        vertical-align: middle;\n",
       "    }\n",
       "\n",
       "    .dataframe tbody tr th {\n",
       "        vertical-align: top;\n",
       "    }\n",
       "\n",
       "    .dataframe thead th {\n",
       "        text-align: right;\n",
       "    }\n",
       "</style>\n",
       "<table border=\"1\" class=\"dataframe\">\n",
       "  <thead>\n",
       "    <tr style=\"text-align: right;\">\n",
       "      <th></th>\n",
       "      <th>연비</th>\n",
       "      <th>실린더수</th>\n",
       "      <th>배기량</th>\n",
       "      <th>출력</th>\n",
       "      <th>차중량</th>\n",
       "      <th>가속능력</th>\n",
       "      <th>출신연도</th>\n",
       "      <th>제조국</th>\n",
       "      <th>모델명</th>\n",
       "    </tr>\n",
       "  </thead>\n",
       "  <tbody>\n",
       "    <tr>\n",
       "      <th>0</th>\n",
       "      <td>15.0</td>\n",
       "      <td>8</td>\n",
       "      <td>350.0</td>\n",
       "      <td>165.0</td>\n",
       "      <td>3693.0</td>\n",
       "      <td>11.5</td>\n",
       "      <td>70</td>\n",
       "      <td>1</td>\n",
       "      <td>buick skylark 320</td>\n",
       "    </tr>\n",
       "    <tr>\n",
       "      <th>1</th>\n",
       "      <td>18.0</td>\n",
       "      <td>8</td>\n",
       "      <td>318.0</td>\n",
       "      <td>150.0</td>\n",
       "      <td>3436.0</td>\n",
       "      <td>11.0</td>\n",
       "      <td>70</td>\n",
       "      <td>1</td>\n",
       "      <td>plymouth satellite</td>\n",
       "    </tr>\n",
       "    <tr>\n",
       "      <th>2</th>\n",
       "      <td>16.0</td>\n",
       "      <td>8</td>\n",
       "      <td>304.0</td>\n",
       "      <td>150.0</td>\n",
       "      <td>3433.0</td>\n",
       "      <td>12.0</td>\n",
       "      <td>70</td>\n",
       "      <td>1</td>\n",
       "      <td>amc rebel sst</td>\n",
       "    </tr>\n",
       "    <tr>\n",
       "      <th>3</th>\n",
       "      <td>17.0</td>\n",
       "      <td>8</td>\n",
       "      <td>302.0</td>\n",
       "      <td>140.0</td>\n",
       "      <td>3449.0</td>\n",
       "      <td>10.5</td>\n",
       "      <td>70</td>\n",
       "      <td>1</td>\n",
       "      <td>ford torino</td>\n",
       "    </tr>\n",
       "    <tr>\n",
       "      <th>4</th>\n",
       "      <td>15.0</td>\n",
       "      <td>8</td>\n",
       "      <td>429.0</td>\n",
       "      <td>198.0</td>\n",
       "      <td>4341.0</td>\n",
       "      <td>10.0</td>\n",
       "      <td>70</td>\n",
       "      <td>1</td>\n",
       "      <td>ford galaxie 500</td>\n",
       "    </tr>\n",
       "  </tbody>\n",
       "</table>\n",
       "</div>"
      ],
      "text/plain": [
       "     연비  실린더수    배기량     출력     차중량  가속능력  출신연도  제조국                 모델명\n",
       "0  15.0     8  350.0  165.0  3693.0  11.5    70    1   buick skylark 320\n",
       "1  18.0     8  318.0  150.0  3436.0  11.0    70    1  plymouth satellite\n",
       "2  16.0     8  304.0  150.0  3433.0  12.0    70    1       amc rebel sst\n",
       "3  17.0     8  302.0  140.0  3449.0  10.5    70    1         ford torino\n",
       "4  15.0     8  429.0  198.0  4341.0  10.0    70    1    ford galaxie 500"
      ]
     },
     "execution_count": 8,
     "metadata": {},
     "output_type": "execute_result"
    }
   ],
   "source": [
    "df.head()"
   ]
  },
  {
   "cell_type": "code",
   "execution_count": 9,
   "id": "43925c1d",
   "metadata": {},
   "outputs": [
    {
     "data": {
      "text/html": [
       "<div>\n",
       "<style scoped>\n",
       "    .dataframe tbody tr th:only-of-type {\n",
       "        vertical-align: middle;\n",
       "    }\n",
       "\n",
       "    .dataframe tbody tr th {\n",
       "        vertical-align: top;\n",
       "    }\n",
       "\n",
       "    .dataframe thead th {\n",
       "        text-align: right;\n",
       "    }\n",
       "</style>\n",
       "<table border=\"1\" class=\"dataframe\">\n",
       "  <thead>\n",
       "    <tr style=\"text-align: right;\">\n",
       "      <th></th>\n",
       "      <th>연비</th>\n",
       "      <th>실린더수</th>\n",
       "      <th>배기량</th>\n",
       "      <th>출력</th>\n",
       "      <th>차중량</th>\n",
       "      <th>가속능력</th>\n",
       "      <th>출신연도</th>\n",
       "      <th>제조국</th>\n",
       "      <th>모델명</th>\n",
       "    </tr>\n",
       "  </thead>\n",
       "  <tbody>\n",
       "    <tr>\n",
       "      <th>392</th>\n",
       "      <td>27.0</td>\n",
       "      <td>4</td>\n",
       "      <td>140.0</td>\n",
       "      <td>86.00</td>\n",
       "      <td>2790.0</td>\n",
       "      <td>15.6</td>\n",
       "      <td>82</td>\n",
       "      <td>1</td>\n",
       "      <td>ford mustang gl</td>\n",
       "    </tr>\n",
       "    <tr>\n",
       "      <th>393</th>\n",
       "      <td>44.0</td>\n",
       "      <td>4</td>\n",
       "      <td>97.0</td>\n",
       "      <td>52.00</td>\n",
       "      <td>2130.0</td>\n",
       "      <td>24.6</td>\n",
       "      <td>82</td>\n",
       "      <td>2</td>\n",
       "      <td>vw pickup</td>\n",
       "    </tr>\n",
       "    <tr>\n",
       "      <th>394</th>\n",
       "      <td>32.0</td>\n",
       "      <td>4</td>\n",
       "      <td>135.0</td>\n",
       "      <td>84.00</td>\n",
       "      <td>2295.0</td>\n",
       "      <td>11.6</td>\n",
       "      <td>82</td>\n",
       "      <td>1</td>\n",
       "      <td>dodge rampage</td>\n",
       "    </tr>\n",
       "    <tr>\n",
       "      <th>395</th>\n",
       "      <td>28.0</td>\n",
       "      <td>4</td>\n",
       "      <td>120.0</td>\n",
       "      <td>79.00</td>\n",
       "      <td>2625.0</td>\n",
       "      <td>18.6</td>\n",
       "      <td>82</td>\n",
       "      <td>1</td>\n",
       "      <td>ford ranger</td>\n",
       "    </tr>\n",
       "    <tr>\n",
       "      <th>396</th>\n",
       "      <td>31.0</td>\n",
       "      <td>4</td>\n",
       "      <td>119.0</td>\n",
       "      <td>82.00</td>\n",
       "      <td>2720.0</td>\n",
       "      <td>19.4</td>\n",
       "      <td>82</td>\n",
       "      <td>1</td>\n",
       "      <td>chevy s-10</td>\n",
       "    </tr>\n",
       "  </tbody>\n",
       "</table>\n",
       "</div>"
      ],
      "text/plain": [
       "       연비  실린더수    배기량     출력     차중량  가속능력  출신연도  제조국              모델명\n",
       "392  27.0     4  140.0  86.00  2790.0  15.6    82    1  ford mustang gl\n",
       "393  44.0     4   97.0  52.00  2130.0  24.6    82    2        vw pickup\n",
       "394  32.0     4  135.0  84.00  2295.0  11.6    82    1    dodge rampage\n",
       "395  28.0     4  120.0  79.00  2625.0  18.6    82    1      ford ranger\n",
       "396  31.0     4  119.0  82.00  2720.0  19.4    82    1       chevy s-10"
      ]
     },
     "execution_count": 9,
     "metadata": {},
     "output_type": "execute_result"
    }
   ],
   "source": [
    "df.tail()"
   ]
  },
  {
   "cell_type": "code",
   "execution_count": 10,
   "id": "17ba5196",
   "metadata": {},
   "outputs": [
    {
     "data": {
      "text/plain": [
       "(397, 9)"
      ]
     },
     "execution_count": 10,
     "metadata": {},
     "output_type": "execute_result"
    }
   ],
   "source": [
    "df.shape"
   ]
  },
  {
   "cell_type": "code",
   "execution_count": 11,
   "id": "c710c95d",
   "metadata": {},
   "outputs": [
    {
     "name": "stdout",
     "output_type": "stream",
     "text": [
      "<class 'pandas.core.frame.DataFrame'>\n",
      "RangeIndex: 397 entries, 0 to 396\n",
      "Data columns (total 9 columns):\n",
      " #   Column  Non-Null Count  Dtype  \n",
      "---  ------  --------------  -----  \n",
      " 0   연비      397 non-null    float64\n",
      " 1   실린더수    397 non-null    int64  \n",
      " 2   배기량     397 non-null    float64\n",
      " 3   출력      397 non-null    object \n",
      " 4   차중량     397 non-null    float64\n",
      " 5   가속능력    397 non-null    float64\n",
      " 6   출신연도    397 non-null    int64  \n",
      " 7   제조국     397 non-null    int64  \n",
      " 8   모델명     397 non-null    object \n",
      "dtypes: float64(4), int64(3), object(2)\n",
      "memory usage: 28.0+ KB\n"
     ]
    }
   ],
   "source": [
    "df.info()"
   ]
  },
  {
   "cell_type": "code",
   "execution_count": 13,
   "id": "ef38464e",
   "metadata": {},
   "outputs": [
    {
     "data": {
      "text/plain": [
       "연비      float64\n",
       "실린더수      int64\n",
       "배기량     float64\n",
       "출력       object\n",
       "차중량     float64\n",
       "가속능력    float64\n",
       "출신연도      int64\n",
       "제조국       int64\n",
       "모델명      object\n",
       "dtype: object"
      ]
     },
     "execution_count": 13,
     "metadata": {},
     "output_type": "execute_result"
    }
   ],
   "source": [
    "df.dtypes"
   ]
  },
  {
   "cell_type": "code",
   "execution_count": 15,
   "id": "a7d446f1",
   "metadata": {},
   "outputs": [
    {
     "data": {
      "text/plain": [
       "dtype('float64')"
      ]
     },
     "execution_count": 15,
     "metadata": {},
     "output_type": "execute_result"
    }
   ],
   "source": [
    "df.연비.dtype"
   ]
  },
  {
   "cell_type": "code",
   "execution_count": 16,
   "id": "4d42f8ae",
   "metadata": {},
   "outputs": [
    {
     "data": {
      "text/html": [
       "<div>\n",
       "<style scoped>\n",
       "    .dataframe tbody tr th:only-of-type {\n",
       "        vertical-align: middle;\n",
       "    }\n",
       "\n",
       "    .dataframe tbody tr th {\n",
       "        vertical-align: top;\n",
       "    }\n",
       "\n",
       "    .dataframe thead th {\n",
       "        text-align: right;\n",
       "    }\n",
       "</style>\n",
       "<table border=\"1\" class=\"dataframe\">\n",
       "  <thead>\n",
       "    <tr style=\"text-align: right;\">\n",
       "      <th></th>\n",
       "      <th>연비</th>\n",
       "      <th>실린더수</th>\n",
       "      <th>배기량</th>\n",
       "      <th>차중량</th>\n",
       "      <th>가속능력</th>\n",
       "      <th>출신연도</th>\n",
       "      <th>제조국</th>\n",
       "    </tr>\n",
       "  </thead>\n",
       "  <tbody>\n",
       "    <tr>\n",
       "      <th>count</th>\n",
       "      <td>397.000000</td>\n",
       "      <td>397.000000</td>\n",
       "      <td>397.000000</td>\n",
       "      <td>397.000000</td>\n",
       "      <td>397.000000</td>\n",
       "      <td>397.000000</td>\n",
       "      <td>397.000000</td>\n",
       "    </tr>\n",
       "    <tr>\n",
       "      <th>mean</th>\n",
       "      <td>23.528463</td>\n",
       "      <td>5.448363</td>\n",
       "      <td>193.139798</td>\n",
       "      <td>2969.080605</td>\n",
       "      <td>15.577078</td>\n",
       "      <td>76.025189</td>\n",
       "      <td>1.574307</td>\n",
       "    </tr>\n",
       "    <tr>\n",
       "      <th>std</th>\n",
       "      <td>7.820926</td>\n",
       "      <td>1.698329</td>\n",
       "      <td>104.244898</td>\n",
       "      <td>847.485218</td>\n",
       "      <td>2.755326</td>\n",
       "      <td>3.689922</td>\n",
       "      <td>0.802549</td>\n",
       "    </tr>\n",
       "    <tr>\n",
       "      <th>min</th>\n",
       "      <td>9.000000</td>\n",
       "      <td>3.000000</td>\n",
       "      <td>68.000000</td>\n",
       "      <td>1613.000000</td>\n",
       "      <td>8.000000</td>\n",
       "      <td>70.000000</td>\n",
       "      <td>1.000000</td>\n",
       "    </tr>\n",
       "    <tr>\n",
       "      <th>25%</th>\n",
       "      <td>17.500000</td>\n",
       "      <td>4.000000</td>\n",
       "      <td>104.000000</td>\n",
       "      <td>2223.000000</td>\n",
       "      <td>13.900000</td>\n",
       "      <td>73.000000</td>\n",
       "      <td>1.000000</td>\n",
       "    </tr>\n",
       "    <tr>\n",
       "      <th>50%</th>\n",
       "      <td>23.000000</td>\n",
       "      <td>4.000000</td>\n",
       "      <td>146.000000</td>\n",
       "      <td>2800.000000</td>\n",
       "      <td>15.500000</td>\n",
       "      <td>76.000000</td>\n",
       "      <td>1.000000</td>\n",
       "    </tr>\n",
       "    <tr>\n",
       "      <th>75%</th>\n",
       "      <td>29.000000</td>\n",
       "      <td>8.000000</td>\n",
       "      <td>262.000000</td>\n",
       "      <td>3609.000000</td>\n",
       "      <td>17.200000</td>\n",
       "      <td>79.000000</td>\n",
       "      <td>2.000000</td>\n",
       "    </tr>\n",
       "    <tr>\n",
       "      <th>max</th>\n",
       "      <td>46.600000</td>\n",
       "      <td>8.000000</td>\n",
       "      <td>455.000000</td>\n",
       "      <td>5140.000000</td>\n",
       "      <td>24.800000</td>\n",
       "      <td>82.000000</td>\n",
       "      <td>3.000000</td>\n",
       "    </tr>\n",
       "  </tbody>\n",
       "</table>\n",
       "</div>"
      ],
      "text/plain": [
       "               연비        실린더수         배기량          차중량        가속능력  \\\n",
       "count  397.000000  397.000000  397.000000   397.000000  397.000000   \n",
       "mean    23.528463    5.448363  193.139798  2969.080605   15.577078   \n",
       "std      7.820926    1.698329  104.244898   847.485218    2.755326   \n",
       "min      9.000000    3.000000   68.000000  1613.000000    8.000000   \n",
       "25%     17.500000    4.000000  104.000000  2223.000000   13.900000   \n",
       "50%     23.000000    4.000000  146.000000  2800.000000   15.500000   \n",
       "75%     29.000000    8.000000  262.000000  3609.000000   17.200000   \n",
       "max     46.600000    8.000000  455.000000  5140.000000   24.800000   \n",
       "\n",
       "             출신연도         제조국  \n",
       "count  397.000000  397.000000  \n",
       "mean    76.025189    1.574307  \n",
       "std      3.689922    0.802549  \n",
       "min     70.000000    1.000000  \n",
       "25%     73.000000    1.000000  \n",
       "50%     76.000000    1.000000  \n",
       "75%     79.000000    2.000000  \n",
       "max     82.000000    3.000000  "
      ]
     },
     "execution_count": 16,
     "metadata": {},
     "output_type": "execute_result"
    }
   ],
   "source": [
    "df.describe()"
   ]
  },
  {
   "cell_type": "code",
   "execution_count": 17,
   "id": "9b4d6680",
   "metadata": {},
   "outputs": [
    {
     "data": {
      "text/plain": [
       "연비      397\n",
       "실린더수    397\n",
       "배기량     397\n",
       "출력      397\n",
       "차중량     397\n",
       "가속능력    397\n",
       "출신연도    397\n",
       "제조국     397\n",
       "모델명     397\n",
       "dtype: int64"
      ]
     },
     "execution_count": 17,
     "metadata": {},
     "output_type": "execute_result"
    }
   ],
   "source": [
    "df.count()"
   ]
  },
  {
   "cell_type": "code",
   "execution_count": 18,
   "id": "af24872e",
   "metadata": {},
   "outputs": [
    {
     "data": {
      "text/plain": [
       "9.0"
      ]
     },
     "execution_count": 18,
     "metadata": {},
     "output_type": "execute_result"
    }
   ],
   "source": [
    "df.연비.min()#최소값 =df.[\"연비\"].min()#최소값"
   ]
  },
  {
   "cell_type": "code",
   "execution_count": 20,
   "id": "070e238a",
   "metadata": {},
   "outputs": [
    {
     "data": {
      "text/plain": [
       "46.6"
      ]
     },
     "execution_count": 20,
     "metadata": {},
     "output_type": "execute_result"
    }
   ],
   "source": [
    "df.연비.max()#최대값"
   ]
  },
  {
   "cell_type": "code",
   "execution_count": 21,
   "id": "9c6210a4",
   "metadata": {},
   "outputs": [
    {
     "data": {
      "text/plain": [
       "23.528463476070527"
      ]
     },
     "execution_count": 21,
     "metadata": {},
     "output_type": "execute_result"
    }
   ],
   "source": [
    "df.연비.mean() #평균값"
   ]
  },
  {
   "cell_type": "code",
   "execution_count": 22,
   "id": "88a0f6ba",
   "metadata": {},
   "outputs": [
    {
     "data": {
      "text/plain": [
       "7.820926403236992"
      ]
     },
     "execution_count": 22,
     "metadata": {},
     "output_type": "execute_result"
    }
   ],
   "source": [
    "df.연비.std() #표준편차"
   ]
  },
  {
   "cell_type": "code",
   "execution_count": 23,
   "id": "1646f251",
   "metadata": {},
   "outputs": [
    {
     "data": {
      "text/plain": [
       "13.0    20\n",
       "14.0    19\n",
       "15.0    16\n",
       "18.0    16\n",
       "26.0    14\n",
       "        ..\n",
       "31.9     1\n",
       "16.9     1\n",
       "18.2     1\n",
       "22.3     1\n",
       "44.0     1\n",
       "Name: 연비, Length: 129, dtype: int64"
      ]
     },
     "execution_count": 23,
     "metadata": {},
     "output_type": "execute_result"
    }
   ],
   "source": [
    "  df['연비'].value_counts()"
   ]
  },
  {
   "cell_type": "code",
   "execution_count": 24,
   "id": "d856053e",
   "metadata": {},
   "outputs": [
    {
     "name": "stderr",
     "output_type": "stream",
     "text": [
      "C:\\Users\\KOREAIT\\AppData\\Local\\Temp\\ipykernel_392\\530051474.py:1: FutureWarning: Dropping of nuisance columns in DataFrame reductions (with 'numeric_only=None') is deprecated; in a future version this will raise TypeError.  Select only valid columns before calling the reduction.\n",
      "  df.median()\n"
     ]
    },
    {
     "data": {
      "text/plain": [
       "연비        23.0\n",
       "실린더수       4.0\n",
       "배기량      146.0\n",
       "차중량     2800.0\n",
       "가속능력      15.5\n",
       "출신연도      76.0\n",
       "제조국        1.0\n",
       "dtype: float64"
      ]
     },
     "execution_count": 24,
     "metadata": {},
     "output_type": "execute_result"
    }
   ],
   "source": [
    "df.median()"
   ]
  },
  {
   "cell_type": "code",
   "execution_count": 25,
   "id": "e42b913e",
   "metadata": {},
   "outputs": [
    {
     "data": {
      "text/plain": [
       "23.0"
      ]
     },
     "execution_count": 25,
     "metadata": {},
     "output_type": "execute_result"
    }
   ],
   "source": [
    "df['연비'].median()"
   ]
  },
  {
   "cell_type": "code",
   "execution_count": 26,
   "id": "c90b923f",
   "metadata": {},
   "outputs": [
    {
     "data": {
      "text/html": [
       "<div>\n",
       "<style scoped>\n",
       "    .dataframe tbody tr th:only-of-type {\n",
       "        vertical-align: middle;\n",
       "    }\n",
       "\n",
       "    .dataframe tbody tr th {\n",
       "        vertical-align: top;\n",
       "    }\n",
       "\n",
       "    .dataframe thead th {\n",
       "        text-align: right;\n",
       "    }\n",
       "</style>\n",
       "<table border=\"1\" class=\"dataframe\">\n",
       "  <thead>\n",
       "    <tr style=\"text-align: right;\">\n",
       "      <th></th>\n",
       "      <th>연비</th>\n",
       "      <th>실린더수</th>\n",
       "      <th>배기량</th>\n",
       "      <th>차중량</th>\n",
       "      <th>가속능력</th>\n",
       "      <th>출신연도</th>\n",
       "      <th>제조국</th>\n",
       "    </tr>\n",
       "  </thead>\n",
       "  <tbody>\n",
       "    <tr>\n",
       "      <th>연비</th>\n",
       "      <td>1.000000</td>\n",
       "      <td>-0.775412</td>\n",
       "      <td>-0.803972</td>\n",
       "      <td>-0.831558</td>\n",
       "      <td>0.419133</td>\n",
       "      <td>0.578667</td>\n",
       "      <td>0.562894</td>\n",
       "    </tr>\n",
       "    <tr>\n",
       "      <th>실린더수</th>\n",
       "      <td>-0.775412</td>\n",
       "      <td>1.000000</td>\n",
       "      <td>0.950718</td>\n",
       "      <td>0.896623</td>\n",
       "      <td>-0.503016</td>\n",
       "      <td>-0.344729</td>\n",
       "      <td>-0.561796</td>\n",
       "    </tr>\n",
       "    <tr>\n",
       "      <th>배기량</th>\n",
       "      <td>-0.803972</td>\n",
       "      <td>0.950718</td>\n",
       "      <td>1.000000</td>\n",
       "      <td>0.932957</td>\n",
       "      <td>-0.542083</td>\n",
       "      <td>-0.367470</td>\n",
       "      <td>-0.608749</td>\n",
       "    </tr>\n",
       "    <tr>\n",
       "      <th>차중량</th>\n",
       "      <td>-0.831558</td>\n",
       "      <td>0.896623</td>\n",
       "      <td>0.932957</td>\n",
       "      <td>1.000000</td>\n",
       "      <td>-0.416488</td>\n",
       "      <td>-0.305150</td>\n",
       "      <td>-0.580552</td>\n",
       "    </tr>\n",
       "    <tr>\n",
       "      <th>가속능력</th>\n",
       "      <td>0.419133</td>\n",
       "      <td>-0.503016</td>\n",
       "      <td>-0.542083</td>\n",
       "      <td>-0.416488</td>\n",
       "      <td>1.000000</td>\n",
       "      <td>0.284376</td>\n",
       "      <td>0.204102</td>\n",
       "    </tr>\n",
       "    <tr>\n",
       "      <th>출신연도</th>\n",
       "      <td>0.578667</td>\n",
       "      <td>-0.344729</td>\n",
       "      <td>-0.367470</td>\n",
       "      <td>-0.305150</td>\n",
       "      <td>0.284376</td>\n",
       "      <td>1.000000</td>\n",
       "      <td>0.178441</td>\n",
       "    </tr>\n",
       "    <tr>\n",
       "      <th>제조국</th>\n",
       "      <td>0.562894</td>\n",
       "      <td>-0.561796</td>\n",
       "      <td>-0.608749</td>\n",
       "      <td>-0.580552</td>\n",
       "      <td>0.204102</td>\n",
       "      <td>0.178441</td>\n",
       "      <td>1.000000</td>\n",
       "    </tr>\n",
       "  </tbody>\n",
       "</table>\n",
       "</div>"
      ],
      "text/plain": [
       "            연비      실린더수       배기량       차중량      가속능력      출신연도       제조국\n",
       "연비    1.000000 -0.775412 -0.803972 -0.831558  0.419133  0.578667  0.562894\n",
       "실린더수 -0.775412  1.000000  0.950718  0.896623 -0.503016 -0.344729 -0.561796\n",
       "배기량  -0.803972  0.950718  1.000000  0.932957 -0.542083 -0.367470 -0.608749\n",
       "차중량  -0.831558  0.896623  0.932957  1.000000 -0.416488 -0.305150 -0.580552\n",
       "가속능력  0.419133 -0.503016 -0.542083 -0.416488  1.000000  0.284376  0.204102\n",
       "출신연도  0.578667 -0.344729 -0.367470 -0.305150  0.284376  1.000000  0.178441\n",
       "제조국   0.562894 -0.561796 -0.608749 -0.580552  0.204102  0.178441  1.000000"
      ]
     },
     "execution_count": 26,
     "metadata": {},
     "output_type": "execute_result"
    }
   ],
   "source": [
    "df.corr()"
   ]
  }
 ],
 "metadata": {
  "kernelspec": {
   "display_name": "Python 3 (ipykernel)",
   "language": "python",
   "name": "python3"
  },
  "language_info": {
   "codemirror_mode": {
    "name": "ipython",
    "version": 3
   },
   "file_extension": ".py",
   "mimetype": "text/x-python",
   "name": "python",
   "nbconvert_exporter": "python",
   "pygments_lexer": "ipython3",
   "version": "3.9.12"
  },
  "toc": {
   "base_numbering": 1,
   "nav_menu": {},
   "number_sections": true,
   "sideBar": true,
   "skip_h1_title": false,
   "title_cell": "Table of Contents",
   "title_sidebar": "Contents",
   "toc_cell": false,
   "toc_position": {},
   "toc_section_display": true,
   "toc_window_display": false
  },
  "varInspector": {
   "cols": {
    "lenName": 16,
    "lenType": 16,
    "lenVar": 40
   },
   "kernels_config": {
    "python": {
     "delete_cmd_postfix": "",
     "delete_cmd_prefix": "del ",
     "library": "var_list.py",
     "varRefreshCmd": "print(var_dic_list())"
    },
    "r": {
     "delete_cmd_postfix": ") ",
     "delete_cmd_prefix": "rm(",
     "library": "var_list.r",
     "varRefreshCmd": "cat(var_dic_list()) "
    }
   },
   "types_to_exclude": [
    "module",
    "function",
    "builtin_function_or_method",
    "instance",
    "_Feature"
   ],
   "window_display": false
  }
 },
 "nbformat": 4,
 "nbformat_minor": 5
}
