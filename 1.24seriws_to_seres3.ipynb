{
 "cells": [
  {
   "cell_type": "code",
   "execution_count": 1,
   "id": "ce768be7",
   "metadata": {},
   "outputs": [],
   "source": [
    "import pandas as pb\n",
    "import numpy as np"
   ]
  },
  {
   "cell_type": "code",
   "execution_count": 2,
   "id": "94e8ff5d",
   "metadata": {},
   "outputs": [],
   "source": [
    "studert1=pb.Series({\"국어\":np.nan,\"영어\":80,\"수학\":90})\n",
    "studert2=pb.Series({\"국어\":80,\"영어\":90,\"수학\":np.nan})"
   ]
  },
  {
   "cell_type": "code",
   "execution_count": 5,
   "id": "5444f3c5",
   "metadata": {},
   "outputs": [
    {
     "data": {
      "text/plain": [
       "국어     80.0\n",
       "영어    170.0\n",
       "수학     90.0\n",
       "dtype: float64"
      ]
     },
     "execution_count": 5,
     "metadata": {},
     "output_type": "execute_result"
    }
   ],
   "source": [
    "#두학생의 과목별 점수로 사칙연산\n",
    "additon=studert1.add(studert2,fill_value=0)\n",
    "additon"
   ]
  },
  {
   "cell_type": "code",
   "execution_count": 11,
   "id": "a0982e3d",
   "metadata": {},
   "outputs": [
    {
     "data": {
      "text/plain": [
       "국어   -80.0\n",
       "영어   -10.0\n",
       "수학    90.0\n",
       "dtype: float64"
      ]
     },
     "execution_count": 11,
     "metadata": {},
     "output_type": "execute_result"
    }
   ],
   "source": [
    "#두학생의 과목별 점수로 사칙연산\n",
    "subration=studert1.sub(studert2,fill_value=0)\n",
    "subration"
   ]
  },
  {
   "cell_type": "code",
   "execution_count": 12,
   "id": "1c526fd8",
   "metadata": {},
   "outputs": [
    {
     "data": {
      "text/plain": [
       "국어    0.000000\n",
       "영어    0.888889\n",
       "수학         inf\n",
       "dtype: float64"
      ]
     },
     "execution_count": 12,
     "metadata": {},
     "output_type": "execute_result"
    }
   ],
   "source": [
    "#두학생의 과목별 점수로 사칙연산\n",
    "division=studert1.div(studert2,fill_value=0)\n",
    "division"
   ]
  },
  {
   "cell_type": "code",
   "execution_count": 13,
   "id": "5b792086",
   "metadata": {
    "scrolled": true
   },
   "outputs": [
    {
     "data": {
      "text/plain": [
       "국어       0.0\n",
       "영어    7200.0\n",
       "수학       0.0\n",
       "dtype: float64"
      ]
     },
     "execution_count": 13,
     "metadata": {},
     "output_type": "execute_result"
    }
   ],
   "source": [
    "#두학생의 과목별 점수로 사칙연산\n",
    "mulitplitcaton=studert1.mul(studert2,fill_value=0)\n",
    "mulitplitcaton"
   ]
  },
  {
   "cell_type": "code",
   "execution_count": 14,
   "id": "d64ad326",
   "metadata": {},
   "outputs": [
    {
     "data": {
      "text/html": [
       "<div>\n",
       "<style scoped>\n",
       "    .dataframe tbody tr th:only-of-type {\n",
       "        vertical-align: middle;\n",
       "    }\n",
       "\n",
       "    .dataframe tbody tr th {\n",
       "        vertical-align: top;\n",
       "    }\n",
       "\n",
       "    .dataframe thead th {\n",
       "        text-align: right;\n",
       "    }\n",
       "</style>\n",
       "<table border=\"1\" class=\"dataframe\">\n",
       "  <thead>\n",
       "    <tr style=\"text-align: right;\">\n",
       "      <th></th>\n",
       "      <th>국어</th>\n",
       "      <th>영어</th>\n",
       "      <th>수학</th>\n",
       "    </tr>\n",
       "  </thead>\n",
       "  <tbody>\n",
       "    <tr>\n",
       "      <th>덧셈</th>\n",
       "      <td>80.0</td>\n",
       "      <td>170.000000</td>\n",
       "      <td>90.0</td>\n",
       "    </tr>\n",
       "    <tr>\n",
       "      <th>뺄셈</th>\n",
       "      <td>-80.0</td>\n",
       "      <td>-10.000000</td>\n",
       "      <td>90.0</td>\n",
       "    </tr>\n",
       "    <tr>\n",
       "      <th>곱셈</th>\n",
       "      <td>0.0</td>\n",
       "      <td>0.888889</td>\n",
       "      <td>inf</td>\n",
       "    </tr>\n",
       "    <tr>\n",
       "      <th>나눗셈</th>\n",
       "      <td>0.0</td>\n",
       "      <td>7200.000000</td>\n",
       "      <td>0.0</td>\n",
       "    </tr>\n",
       "  </tbody>\n",
       "</table>\n",
       "</div>"
      ],
      "text/plain": [
       "       국어           영어    수학\n",
       "덧셈   80.0   170.000000  90.0\n",
       "뺄셈  -80.0   -10.000000  90.0\n",
       "곱셈    0.0     0.888889   inf\n",
       "나눗셈   0.0  7200.000000   0.0"
      ]
     },
     "execution_count": 14,
     "metadata": {},
     "output_type": "execute_result"
    }
   ],
   "source": [
    "result=pb.DataFrame([additon,subration,division,mulitplitcaton], index=[\"덧셈\",\"뺄셈\",\"곱셈\",\"나눗셈\"])\n",
    "result"
   ]
  },
  {
   "cell_type": "code",
   "execution_count": null,
   "id": "505d6d55",
   "metadata": {},
   "outputs": [],
   "source": []
  }
 ],
 "metadata": {
  "kernelspec": {
   "display_name": "Python 3 (ipykernel)",
   "language": "python",
   "name": "python3"
  },
  "language_info": {
   "codemirror_mode": {
    "name": "ipython",
    "version": 3
   },
   "file_extension": ".py",
   "mimetype": "text/x-python",
   "name": "python",
   "nbconvert_exporter": "python",
   "pygments_lexer": "ipython3",
   "version": "3.9.12"
  },
  "toc": {
   "base_numbering": 1,
   "nav_menu": {},
   "number_sections": true,
   "sideBar": true,
   "skip_h1_title": false,
   "title_cell": "Table of Contents",
   "title_sidebar": "Contents",
   "toc_cell": false,
   "toc_position": {},
   "toc_section_display": true,
   "toc_window_display": false
  },
  "varInspector": {
   "cols": {
    "lenName": 16,
    "lenType": 16,
    "lenVar": 40
   },
   "kernels_config": {
    "python": {
     "delete_cmd_postfix": "",
     "delete_cmd_prefix": "del ",
     "library": "var_list.py",
     "varRefreshCmd": "print(var_dic_list())"
    },
    "r": {
     "delete_cmd_postfix": ") ",
     "delete_cmd_prefix": "rm(",
     "library": "var_list.r",
     "varRefreshCmd": "cat(var_dic_list()) "
    }
   },
   "types_to_exclude": [
    "module",
    "function",
    "builtin_function_or_method",
    "instance",
    "_Feature"
   ],
   "window_display": false
  }
 },
 "nbformat": 4,
 "nbformat_minor": 5
}
