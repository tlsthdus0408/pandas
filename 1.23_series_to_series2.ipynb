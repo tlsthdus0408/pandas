{
 "cells": [
  {
   "cell_type": "code",
   "execution_count": 16,
   "id": "609cb3ba",
   "metadata": {},
   "outputs": [],
   "source": [
    "import pandas as pb\n",
    "import numpy as np"
   ]
  },
  {
   "cell_type": "code",
   "execution_count": null,
   "id": "14d748be",
   "metadata": {},
   "outputs": [],
   "source": []
  },
  {
   "cell_type": "code",
   "execution_count": 17,
   "id": "857b5740",
   "metadata": {},
   "outputs": [],
   "source": [
    "studert1=pb.Series({\"국어\":np.nan,\"영어\":80,\"수학\":90})\n",
    "studert2=pb.Series({\"국어\":80,\"영어\":90,\"수학\":np.nan})"
   ]
  },
  {
   "cell_type": "code",
   "execution_count": 19,
   "id": "454fd2a0",
   "metadata": {},
   "outputs": [
    {
     "data": {
      "text/plain": [
       "국어      NaN\n",
       "영어    170.0\n",
       "수학      NaN\n",
       "dtype: float64"
      ]
     },
     "execution_count": 19,
     "metadata": {},
     "output_type": "execute_result"
    }
   ],
   "source": [
    "#두학생의 과목별 점수로 사칙연산\n",
    "additon=studert1+studert2\n",
    "additon"
   ]
  },
  {
   "cell_type": "code",
   "execution_count": 20,
   "id": "d0cbb431",
   "metadata": {},
   "outputs": [
    {
     "data": {
      "text/plain": [
       "국어     NaN\n",
       "영어   -10.0\n",
       "수학     NaN\n",
       "dtype: float64"
      ]
     },
     "execution_count": 20,
     "metadata": {},
     "output_type": "execute_result"
    }
   ],
   "source": [
    "#두학생의 과목별 점수로 사칙연산\n",
    "subration=studert1-studert2\n",
    "subration"
   ]
  },
  {
   "cell_type": "code",
   "execution_count": null,
   "id": "39765f90",
   "metadata": {},
   "outputs": [],
   "source": []
  },
  {
   "cell_type": "code",
   "execution_count": 21,
   "id": "f792b45b",
   "metadata": {},
   "outputs": [
    {
     "data": {
      "text/plain": [
       "국어         NaN\n",
       "영어    0.888889\n",
       "수학         NaN\n",
       "dtype: float64"
      ]
     },
     "execution_count": 21,
     "metadata": {},
     "output_type": "execute_result"
    }
   ],
   "source": [
    "#두학생의 과목별 점수로 사칙연산\n",
    "division=studert1/studert2\n",
    "division"
   ]
  },
  {
   "cell_type": "code",
   "execution_count": 22,
   "id": "cb7c195b",
   "metadata": {},
   "outputs": [
    {
     "data": {
      "text/plain": [
       "국어       NaN\n",
       "영어    7200.0\n",
       "수학       NaN\n",
       "dtype: float64"
      ]
     },
     "execution_count": 22,
     "metadata": {},
     "output_type": "execute_result"
    }
   ],
   "source": [
    "#두학생의 과목별 점수로 사칙연산\n",
    "mulitplitcaton=studert1*studert2\n",
    "mulitplitcaton"
   ]
  },
  {
   "cell_type": "code",
   "execution_count": 23,
   "id": "7ecb2652",
   "metadata": {},
   "outputs": [
    {
     "data": {
      "text/html": [
       "<div>\n",
       "<style scoped>\n",
       "    .dataframe tbody tr th:only-of-type {\n",
       "        vertical-align: middle;\n",
       "    }\n",
       "\n",
       "    .dataframe tbody tr th {\n",
       "        vertical-align: top;\n",
       "    }\n",
       "\n",
       "    .dataframe thead th {\n",
       "        text-align: right;\n",
       "    }\n",
       "</style>\n",
       "<table border=\"1\" class=\"dataframe\">\n",
       "  <thead>\n",
       "    <tr style=\"text-align: right;\">\n",
       "      <th></th>\n",
       "      <th>국어</th>\n",
       "      <th>영어</th>\n",
       "      <th>수학</th>\n",
       "    </tr>\n",
       "  </thead>\n",
       "  <tbody>\n",
       "    <tr>\n",
       "      <th>덧셈</th>\n",
       "      <td>NaN</td>\n",
       "      <td>170.000000</td>\n",
       "      <td>NaN</td>\n",
       "    </tr>\n",
       "    <tr>\n",
       "      <th>뺄셈</th>\n",
       "      <td>NaN</td>\n",
       "      <td>-10.000000</td>\n",
       "      <td>NaN</td>\n",
       "    </tr>\n",
       "    <tr>\n",
       "      <th>곱셈</th>\n",
       "      <td>NaN</td>\n",
       "      <td>0.888889</td>\n",
       "      <td>NaN</td>\n",
       "    </tr>\n",
       "    <tr>\n",
       "      <th>나눗셈</th>\n",
       "      <td>NaN</td>\n",
       "      <td>7200.000000</td>\n",
       "      <td>NaN</td>\n",
       "    </tr>\n",
       "  </tbody>\n",
       "</table>\n",
       "</div>"
      ],
      "text/plain": [
       "     국어           영어  수학\n",
       "덧셈  NaN   170.000000 NaN\n",
       "뺄셈  NaN   -10.000000 NaN\n",
       "곱셈  NaN     0.888889 NaN\n",
       "나눗셈 NaN  7200.000000 NaN"
      ]
     },
     "execution_count": 23,
     "metadata": {},
     "output_type": "execute_result"
    }
   ],
   "source": [
    "result=pb.DataFrame([additon,subration,division,mulitplitcaton], index=[\"덧셈\",\"뺄셈\",\"곱셈\",\"나눗셈\"])\n",
    "result"
   ]
  },
  {
   "cell_type": "code",
   "execution_count": null,
   "id": "f023b792",
   "metadata": {},
   "outputs": [],
   "source": []
  },
  {
   "cell_type": "code",
   "execution_count": 18,
   "id": "d67fdeaa",
   "metadata": {},
   "outputs": [
    {
     "data": {
      "text/html": [
       "<div>\n",
       "<style scoped>\n",
       "    .dataframe tbody tr th:only-of-type {\n",
       "        vertical-align: middle;\n",
       "    }\n",
       "\n",
       "    .dataframe tbody tr th {\n",
       "        vertical-align: top;\n",
       "    }\n",
       "\n",
       "    .dataframe thead th {\n",
       "        text-align: right;\n",
       "    }\n",
       "</style>\n",
       "<table border=\"1\" class=\"dataframe\">\n",
       "  <thead>\n",
       "    <tr style=\"text-align: right;\">\n",
       "      <th></th>\n",
       "      <th>국어</th>\n",
       "      <th>영어</th>\n",
       "      <th>수학</th>\n",
       "    </tr>\n",
       "  </thead>\n",
       "  <tbody>\n",
       "    <tr>\n",
       "      <th>덧셈</th>\n",
       "      <td>180.00</td>\n",
       "      <td>170.000000</td>\n",
       "      <td>170.000</td>\n",
       "    </tr>\n",
       "    <tr>\n",
       "      <th>뺄셈</th>\n",
       "      <td>20.00</td>\n",
       "      <td>-10.000000</td>\n",
       "      <td>10.000</td>\n",
       "    </tr>\n",
       "    <tr>\n",
       "      <th>곱셈</th>\n",
       "      <td>1.25</td>\n",
       "      <td>0.888889</td>\n",
       "      <td>1.125</td>\n",
       "    </tr>\n",
       "    <tr>\n",
       "      <th>나눗셈</th>\n",
       "      <td>8000.00</td>\n",
       "      <td>7200.000000</td>\n",
       "      <td>7200.000</td>\n",
       "    </tr>\n",
       "  </tbody>\n",
       "</table>\n",
       "</div>"
      ],
      "text/plain": [
       "          국어           영어        수학\n",
       "덧셈    180.00   170.000000   170.000\n",
       "뺄셈     20.00   -10.000000    10.000\n",
       "곱셈      1.25     0.888889     1.125\n",
       "나눗셈  8000.00  7200.000000  7200.000"
      ]
     },
     "execution_count": 18,
     "metadata": {},
     "output_type": "execute_result"
    }
   ],
   "source": [
    "result"
   ]
  },
  {
   "cell_type": "code",
   "execution_count": null,
   "id": "0fd1ccbd",
   "metadata": {},
   "outputs": [],
   "source": []
  }
 ],
 "metadata": {
  "kernelspec": {
   "display_name": "Python 3 (ipykernel)",
   "language": "python",
   "name": "python3"
  },
  "language_info": {
   "codemirror_mode": {
    "name": "ipython",
    "version": 3
   },
   "file_extension": ".py",
   "mimetype": "text/x-python",
   "name": "python",
   "nbconvert_exporter": "python",
   "pygments_lexer": "ipython3",
   "version": "3.9.12"
  },
  "toc": {
   "base_numbering": 1,
   "nav_menu": {},
   "number_sections": true,
   "sideBar": true,
   "skip_h1_title": false,
   "title_cell": "Table of Contents",
   "title_sidebar": "Contents",
   "toc_cell": false,
   "toc_position": {},
   "toc_section_display": true,
   "toc_window_display": false
  },
  "varInspector": {
   "cols": {
    "lenName": 16,
    "lenType": 16,
    "lenVar": 40
   },
   "kernels_config": {
    "python": {
     "delete_cmd_postfix": "",
     "delete_cmd_prefix": "del ",
     "library": "var_list.py",
     "varRefreshCmd": "print(var_dic_list())"
    },
    "r": {
     "delete_cmd_postfix": ") ",
     "delete_cmd_prefix": "rm(",
     "library": "var_list.r",
     "varRefreshCmd": "cat(var_dic_list()) "
    }
   },
   "types_to_exclude": [
    "module",
    "function",
    "builtin_function_or_method",
    "instance",
    "_Feature"
   ],
   "window_display": false
  }
 },
 "nbformat": 4,
 "nbformat_minor": 5
}
